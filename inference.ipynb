{
 "cells": [
  {
   "cell_type": "code",
   "execution_count": 19,
   "metadata": {},
   "outputs": [],
   "source": [
    "import torch\n",
    "import pandas as pd\n",
    "from model import *\n",
    "from utils import *\n",
    "import numpy as np"
   ]
  },
  {
   "cell_type": "code",
   "execution_count": 20,
   "metadata": {},
   "outputs": [
    {
     "data": {
      "text/html": [
       "<div>\n",
       "<style scoped>\n",
       "    .dataframe tbody tr th:only-of-type {\n",
       "        vertical-align: middle;\n",
       "    }\n",
       "\n",
       "    .dataframe tbody tr th {\n",
       "        vertical-align: top;\n",
       "    }\n",
       "\n",
       "    .dataframe thead th {\n",
       "        text-align: right;\n",
       "    }\n",
       "</style>\n",
       "<table border=\"1\" class=\"dataframe\">\n",
       "  <thead>\n",
       "    <tr style=\"text-align: right;\">\n",
       "      <th></th>\n",
       "      <th>name</th>\n",
       "      <th>restaurant</th>\n",
       "      <th>content</th>\n",
       "      <th>type</th>\n",
       "      <th>address</th>\n",
       "      <th>date</th>\n",
       "      <th>type2</th>\n",
       "      <th>type_dict</th>\n",
       "      <th>name_dict</th>\n",
       "    </tr>\n",
       "  </thead>\n",
       "  <tbody>\n",
       "    <tr>\n",
       "      <th>0</th>\n",
       "      <td>keem</td>\n",
       "      <td>토리아에즈 방이점</td>\n",
       "      <td>맛있어서 몇일만에 재방문이요\\n</td>\n",
       "      <td>이자카야</td>\n",
       "      <td>서울특별시 송파구 방이동</td>\n",
       "      <td>11.28.화</td>\n",
       "      <td>주점</td>\n",
       "      <td>1</td>\n",
       "      <td>1</td>\n",
       "    </tr>\n",
       "    <tr>\n",
       "      <th>1</th>\n",
       "      <td>keem</td>\n",
       "      <td>토리아에즈 방이점</td>\n",
       "      <td>예전부터 다른 지점 방문하고 싶었는데\\n근처에 생겨서 다녀왔어요\\n맛있네요!</td>\n",
       "      <td>이자카야</td>\n",
       "      <td>서울특별시 송파구 방이동</td>\n",
       "      <td>11.24.금</td>\n",
       "      <td>주점</td>\n",
       "      <td>1</td>\n",
       "      <td>1</td>\n",
       "    </tr>\n",
       "    <tr>\n",
       "      <th>2</th>\n",
       "      <td>keem</td>\n",
       "      <td>송파와인집</td>\n",
       "      <td>매달 추천와인이있어서 좋아요\\n간만에 화이트 와인이 땡겨서 화이트2 레드1세트로 구...</td>\n",
       "      <td>주류</td>\n",
       "      <td>서울특별시 송파구 석촌동</td>\n",
       "      <td>11.12.일</td>\n",
       "      <td>주점</td>\n",
       "      <td>2</td>\n",
       "      <td>1</td>\n",
       "    </tr>\n",
       "    <tr>\n",
       "      <th>3</th>\n",
       "      <td>keem</td>\n",
       "      <td>명동교자 이태원점</td>\n",
       "      <td>날씨가 추워져서 뜨끈한 칼국수 먹으러 방문했어요\\n맛이 변함없이 좋고 마늘김치도 역...</td>\n",
       "      <td>칼국수,만두</td>\n",
       "      <td>서울특별시 용산구 이태원동</td>\n",
       "      <td>11.12.일</td>\n",
       "      <td>한식</td>\n",
       "      <td>3</td>\n",
       "      <td>1</td>\n",
       "    </tr>\n",
       "    <tr>\n",
       "      <th>4</th>\n",
       "      <td>keem</td>\n",
       "      <td>진구정</td>\n",
       "      <td>사장님이 오픈하는곳은 무조건 가봐야져\\n평냉에 비냉 제육까지 잘 먹었습니다\\n제육에...</td>\n",
       "      <td>이북음식</td>\n",
       "      <td>서울특별시 광진구 구의동</td>\n",
       "      <td>11.11.토</td>\n",
       "      <td>한식</td>\n",
       "      <td>4</td>\n",
       "      <td>1</td>\n",
       "    </tr>\n",
       "    <tr>\n",
       "      <th>...</th>\n",
       "      <td>...</td>\n",
       "      <td>...</td>\n",
       "      <td>...</td>\n",
       "      <td>...</td>\n",
       "      <td>...</td>\n",
       "      <td>...</td>\n",
       "      <td>...</td>\n",
       "      <td>...</td>\n",
       "      <td>...</td>\n",
       "    </tr>\n",
       "    <tr>\n",
       "      <th>116684</th>\n",
       "      <td>cnswkd</td>\n",
       "      <td>익선잡방</td>\n",
       "      <td>음식도 맛있거 분위기도 좋았어요</td>\n",
       "      <td>브런치</td>\n",
       "      <td>서울특별시 종로구 익선동</td>\n",
       "      <td>22.7.7.목</td>\n",
       "      <td>브런치</td>\n",
       "      <td>37</td>\n",
       "      <td>9526</td>\n",
       "    </tr>\n",
       "    <tr>\n",
       "      <th>116685</th>\n",
       "      <td>cnswkd</td>\n",
       "      <td>화포식당 가재울뉴타운점</td>\n",
       "      <td>고기 구워주신분들 너무 친절하시고 맛있게 구워주세요 육즙 장난 아니예요😋</td>\n",
       "      <td>돼지고기구이</td>\n",
       "      <td>서울특별시 서대문구 남가좌동</td>\n",
       "      <td>22.6.27.월</td>\n",
       "      <td>고기</td>\n",
       "      <td>44</td>\n",
       "      <td>9526</td>\n",
       "    </tr>\n",
       "    <tr>\n",
       "      <th>116686</th>\n",
       "      <td>cnswkd</td>\n",
       "      <td>화포식당 연신내점</td>\n",
       "      <td>자주 오는 곳인데 올때마다 너무 맛있어요😋\\n직원분들도 너무 친절하시고\\n고기도 맛...</td>\n",
       "      <td>돼지고기구이</td>\n",
       "      <td>서울특별시 은평구 갈현동</td>\n",
       "      <td>22.5.7.토</td>\n",
       "      <td>고기</td>\n",
       "      <td>44</td>\n",
       "      <td>9526</td>\n",
       "    </tr>\n",
       "    <tr>\n",
       "      <th>116687</th>\n",
       "      <td>cnswkd</td>\n",
       "      <td>화포식당 가재울뉴타운점</td>\n",
       "      <td>고기 육질도 좋고 맛도 좋아요\\n무엇보다 너무 잘 구워주셔서 맛있었어요😋\\n소스가 ...</td>\n",
       "      <td>돼지고기구이</td>\n",
       "      <td>서울특별시 서대문구 남가좌동</td>\n",
       "      <td>22.3.27.일</td>\n",
       "      <td>고기</td>\n",
       "      <td>44</td>\n",
       "      <td>9526</td>\n",
       "    </tr>\n",
       "    <tr>\n",
       "      <th>116688</th>\n",
       "      <td>cnswkd</td>\n",
       "      <td>등촌샤브칼국수 연신내점</td>\n",
       "      <td>너무 너무 맛있구 직원분들 너무 친절하세요</td>\n",
       "      <td>칼국수,만두</td>\n",
       "      <td>서울특별시 은평구 갈현동</td>\n",
       "      <td>21.10.22.금</td>\n",
       "      <td>한식</td>\n",
       "      <td>3</td>\n",
       "      <td>9526</td>\n",
       "    </tr>\n",
       "  </tbody>\n",
       "</table>\n",
       "<p>116689 rows × 9 columns</p>\n",
       "</div>"
      ],
      "text/plain": [
       "          name    restaurant  \\\n",
       "0         keem     토리아에즈 방이점   \n",
       "1         keem     토리아에즈 방이점   \n",
       "2         keem         송파와인집   \n",
       "3         keem     명동교자 이태원점   \n",
       "4         keem           진구정   \n",
       "...        ...           ...   \n",
       "116684  cnswkd          익선잡방   \n",
       "116685  cnswkd  화포식당 가재울뉴타운점   \n",
       "116686  cnswkd     화포식당 연신내점   \n",
       "116687  cnswkd  화포식당 가재울뉴타운점   \n",
       "116688  cnswkd  등촌샤브칼국수 연신내점   \n",
       "\n",
       "                                                  content    type  \\\n",
       "0                                       맛있어서 몇일만에 재방문이요\\n    이자카야   \n",
       "1             예전부터 다른 지점 방문하고 싶었는데\\n근처에 생겨서 다녀왔어요\\n맛있네요!     이자카야   \n",
       "2       매달 추천와인이있어서 좋아요\\n간만에 화이트 와인이 땡겨서 화이트2 레드1세트로 구...      주류   \n",
       "3       날씨가 추워져서 뜨끈한 칼국수 먹으러 방문했어요\\n맛이 변함없이 좋고 마늘김치도 역...  칼국수,만두   \n",
       "4       사장님이 오픈하는곳은 무조건 가봐야져\\n평냉에 비냉 제육까지 잘 먹었습니다\\n제육에...    이북음식   \n",
       "...                                                   ...     ...   \n",
       "116684                                  음식도 맛있거 분위기도 좋았어요     브런치   \n",
       "116685           고기 구워주신분들 너무 친절하시고 맛있게 구워주세요 육즙 장난 아니예요😋  돼지고기구이   \n",
       "116686  자주 오는 곳인데 올때마다 너무 맛있어요😋\\n직원분들도 너무 친절하시고\\n고기도 맛...  돼지고기구이   \n",
       "116687  고기 육질도 좋고 맛도 좋아요\\n무엇보다 너무 잘 구워주셔서 맛있었어요😋\\n소스가 ...  돼지고기구이   \n",
       "116688                            너무 너무 맛있구 직원분들 너무 친절하세요  칼국수,만두   \n",
       "\n",
       "                address        date type2  type_dict  name_dict  \n",
       "0         서울특별시 송파구 방이동     11.28.화    주점          1          1  \n",
       "1         서울특별시 송파구 방이동     11.24.금    주점          1          1  \n",
       "2         서울특별시 송파구 석촌동     11.12.일    주점          2          1  \n",
       "3        서울특별시 용산구 이태원동     11.12.일    한식          3          1  \n",
       "4         서울특별시 광진구 구의동     11.11.토    한식          4          1  \n",
       "...                 ...         ...   ...        ...        ...  \n",
       "116684    서울특별시 종로구 익선동    22.7.7.목   브런치         37       9526  \n",
       "116685  서울특별시 서대문구 남가좌동   22.6.27.월    고기         44       9526  \n",
       "116686    서울특별시 은평구 갈현동    22.5.7.토    고기         44       9526  \n",
       "116687  서울특별시 서대문구 남가좌동   22.3.27.일    고기         44       9526  \n",
       "116688    서울특별시 은평구 갈현동  21.10.22.금    한식          3       9526  \n",
       "\n",
       "[116689 rows x 9 columns]"
      ]
     },
     "execution_count": 20,
     "metadata": {},
     "output_type": "execute_result"
    }
   ],
   "source": [
    "data_v8 = pd.read_csv('/Users/sb/Desktop/modeling/SASRec.pytorch/data/V8.csv')\n",
    "data_v8"
   ]
  },
  {
   "cell_type": "code",
   "execution_count": null,
   "metadata": {},
   "outputs": [],
   "source": []
  },
  {
   "cell_type": "code",
   "execution_count": 3,
   "metadata": {},
   "outputs": [],
   "source": [
    "class Args:\n",
    "    pass\n",
    "\n",
    "args = Args()\n",
    "args.batch_size = 128\n",
    "args.res_type = \"test_v1\"\n",
    "args.device = \"cpu\"\n",
    "args.dataset = \"res_type\"\n",
    "args.dropout_rate = 0.5\n",
    "args.hidden_units = 50\n",
    "args.inference_only = True\n",
    "args.l2_emb = 0.0\n",
    "args.lr = 0.001\n",
    "args.maxlen = 50\n",
    "args.num_blocks = 2\n",
    "args.num_epochs = 201\n",
    "args.num_heads = 1\n",
    "args.state_dict_path = None\n",
    "args.train_dir = \"test_v1\""
   ]
  },
  {
   "cell_type": "code",
   "execution_count": 7,
   "metadata": {},
   "outputs": [],
   "source": [
    "dataset = data_partition(args.dataset)\n",
    "[user_train, user_valid, user_test, usernum, itemnum] = dataset\n",
    "sampler = WarpSampler(user_train, usernum, itemnum, batch_size=args.batch_size, maxlen=args.maxlen, n_workers=3)\n",
    "model = SASRec(usernum, itemnum, args).to(args.device)"
   ]
  },
  {
   "cell_type": "code",
   "execution_count": 8,
   "metadata": {},
   "outputs": [
    {
     "data": {
      "text/plain": [
       "SASRec(\n",
       "  (item_emb): Embedding(137, 50, padding_idx=0)\n",
       "  (pos_emb): Embedding(50, 50)\n",
       "  (emb_dropout): Dropout(p=0.5, inplace=False)\n",
       "  (attention_layernorms): ModuleList(\n",
       "    (0-1): 2 x LayerNorm((50,), eps=1e-08, elementwise_affine=True)\n",
       "  )\n",
       "  (attention_layers): ModuleList(\n",
       "    (0-1): 2 x MultiheadAttention(\n",
       "      (out_proj): NonDynamicallyQuantizableLinear(in_features=50, out_features=50, bias=True)\n",
       "    )\n",
       "  )\n",
       "  (forward_layernorms): ModuleList(\n",
       "    (0-1): 2 x LayerNorm((50,), eps=1e-08, elementwise_affine=True)\n",
       "  )\n",
       "  (forward_layers): ModuleList(\n",
       "    (0-1): 2 x PointWiseFeedForward(\n",
       "      (conv1): Conv1d(50, 50, kernel_size=(1,), stride=(1,))\n",
       "      (dropout1): Dropout(p=0.5, inplace=False)\n",
       "      (relu): ReLU()\n",
       "      (conv2): Conv1d(50, 50, kernel_size=(1,), stride=(1,))\n",
       "      (dropout2): Dropout(p=0.5, inplace=False)\n",
       "    )\n",
       "  )\n",
       "  (last_layernorm): LayerNorm((50,), eps=1e-08, elementwise_affine=True)\n",
       ")"
      ]
     },
     "execution_count": 8,
     "metadata": {},
     "output_type": "execute_result"
    }
   ],
   "source": [
    "model"
   ]
  },
  {
   "cell_type": "code",
   "execution_count": 9,
   "metadata": {},
   "outputs": [
    {
     "data": {
      "text/plain": [
       "SASRec(\n",
       "  (item_emb): Embedding(137, 50, padding_idx=0)\n",
       "  (pos_emb): Embedding(50, 50)\n",
       "  (emb_dropout): Dropout(p=0.5, inplace=False)\n",
       "  (attention_layernorms): ModuleList(\n",
       "    (0-1): 2 x LayerNorm((50,), eps=1e-08, elementwise_affine=True)\n",
       "  )\n",
       "  (attention_layers): ModuleList(\n",
       "    (0-1): 2 x MultiheadAttention(\n",
       "      (out_proj): NonDynamicallyQuantizableLinear(in_features=50, out_features=50, bias=True)\n",
       "    )\n",
       "  )\n",
       "  (forward_layernorms): ModuleList(\n",
       "    (0-1): 2 x LayerNorm((50,), eps=1e-08, elementwise_affine=True)\n",
       "  )\n",
       "  (forward_layers): ModuleList(\n",
       "    (0-1): 2 x PointWiseFeedForward(\n",
       "      (conv1): Conv1d(50, 50, kernel_size=(1,), stride=(1,))\n",
       "      (dropout1): Dropout(p=0.5, inplace=False)\n",
       "      (relu): ReLU()\n",
       "      (conv2): Conv1d(50, 50, kernel_size=(1,), stride=(1,))\n",
       "      (dropout2): Dropout(p=0.5, inplace=False)\n",
       "    )\n",
       "  )\n",
       "  (last_layernorm): LayerNorm((50,), eps=1e-08, elementwise_affine=True)\n",
       ")"
      ]
     },
     "execution_count": 9,
     "metadata": {},
     "output_type": "execute_result"
    }
   ],
   "source": [
    "path = \"/Users/sb/Desktop/modeling/SASRec.pytorch/result/res_type_test_v1/SASRec.epoch=400.lr=0.001.layer=2.head=2.hidden=50.maxlen=50.pth\"\n",
    "model.load_state_dict(torch.load(path))\n",
    "model.eval()"
   ]
  },
  {
   "cell_type": "code",
   "execution_count": 12,
   "metadata": {},
   "outputs": [],
   "source": [
    "u, seq, pos, neg = sampler.next_batch() # tuples to ndarray\n",
    "u, seq, pos, neg = np.array(u), np.array(seq), np.array(pos), np.array(neg)\n"
   ]
  },
  {
   "cell_type": "code",
   "execution_count": 13,
   "metadata": {},
   "outputs": [
    {
     "data": {
      "text/plain": [
       "array([[ 0,  0,  0, ...,  7, 17,  7],\n",
       "       [ 0,  0,  0, ..., 36, 42,  7],\n",
       "       [ 0,  0,  0, ..., 35, 42, 45],\n",
       "       ...,\n",
       "       [ 0,  0,  0, ..., 13, 34, 20],\n",
       "       [ 0,  0,  0, ..., 25, 94,  6],\n",
       "       [ 0,  0,  0, ...,  1,  1, 42]], dtype=int32)"
      ]
     },
     "execution_count": 13,
     "metadata": {},
     "output_type": "execute_result"
    }
   ],
   "source": [
    "seq"
   ]
  },
  {
   "cell_type": "code",
   "execution_count": 18,
   "metadata": {},
   "outputs": [
    {
     "data": {
      "text/plain": [
       "array([ 0,  0,  0,  0,  0,  0,  0,  0,  0,  0,  0,  0,  0,  0,  0,  0,  0,\n",
       "        0,  0,  0,  0,  0,  0,  0,  0,  0,  0,  0,  0,  0,  0,  0,  0,  0,\n",
       "       13,  7, 13, 53, 13, 53, 13, 13, 13, 13, 22, 36, 36, 36, 42,  7],\n",
       "      dtype=int32)"
      ]
     },
     "execution_count": 18,
     "metadata": {},
     "output_type": "execute_result"
    }
   ],
   "source": [
    "seq[1]"
   ]
  }
 ],
 "metadata": {
  "kernelspec": {
   "display_name": "ksc2023",
   "language": "python",
   "name": "python3"
  },
  "language_info": {
   "codemirror_mode": {
    "name": "ipython",
    "version": 3
   },
   "file_extension": ".py",
   "mimetype": "text/x-python",
   "name": "python",
   "nbconvert_exporter": "python",
   "pygments_lexer": "ipython3",
   "version": "3.11.5"
  }
 },
 "nbformat": 4,
 "nbformat_minor": 2
}
